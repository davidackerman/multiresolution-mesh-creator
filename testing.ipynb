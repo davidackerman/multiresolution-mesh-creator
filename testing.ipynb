{
 "cells": [
  {
   "cell_type": "code",
   "execution_count": 8,
   "metadata": {},
   "outputs": [],
   "source": [
    "import trimesh\n",
    "import numpy as np\n",
    "from io_utils import stdout_redirected\n",
    "import time\n",
    "from dvidutils import encode_faces_to_custom_drc_bytes\n",
    "import dask\n",
    "import utils\n",
    "\n",
    "from collections import namedtuple \n",
    "\n",
    "Fragment = namedtuple('Fragment', ['draco_bytes', 'position','offset'])\n",
    "\n",
    "def get_face_indices_in_range(mesh, face_mins, stop):\n",
    "    max_edge_length = np.max(mesh.edges_unique_length)\n",
    "    rows = np.where(face_mins[:,0]<stop+max_edge_length)\n",
    "    return rows[0]\n",
    "\n",
    "def renumber_vertex_indices(faces, vertex_indices_in_range):\n",
    "    def renumber_indicies(a, val_old, val_new):\n",
    "        arr = np.empty(a.max()+1, dtype=val_new.dtype)\n",
    "        arr[val_old] = val_new\n",
    "        return arr[a]\n",
    "    \n",
    "    faces = np.reshape(faces,-1)\n",
    "    faces=renumber_indicies(faces,vertex_indices_in_range,np.arange(len(vertex_indices_in_range)))\n",
    "\n",
    "    return np.reshape(faces,(-1,3))\n",
    "\n",
    "@dask.delayed\n",
    "def generate_mesh_decomposition(v,f,box_size, start_fragment, end_fragment, x_start, x_end):\n",
    "    # Scale our coordinates.\n",
    "\n",
    "    nyz, nxz, nxy = np.eye(3)\n",
    "    t = time.time()\n",
    "    total_blocks = 0\n",
    "    sz = 0\n",
    "\n",
    "    fragments = []\n",
    "    for x in range(x_start, x_end):\n",
    "        vx, fx = trimesh.intersections.slice_faces_plane(\n",
    "            v, f, plane_normal=-nyz, plane_origin=nyz*(x+1)*box_size)\n",
    "\n",
    "        for y in range(start_fragment[1], end_fragment[1]):\n",
    "            vy, fy = trimesh.intersections.slice_faces_plane(\n",
    "                vx, fx, plane_normal=-nxz, plane_origin=nxz*(y+1)*box_size)\n",
    "\n",
    "            for z in range(start_fragment[2], end_fragment[2]):\n",
    "                vz, fz = trimesh.intersections.slice_faces_plane(\n",
    "                    vy, fy, plane_normal=-nxy, plane_origin=nxy*(z+1)*box_size)\n",
    "\n",
    "                if len(vz) > 0:\n",
    "                    normals = np.zeros(np.shape(vz))\n",
    "                    draco_bytes = encode_faces_to_custom_drc_bytes(\n",
    "                        vz, normals, fz, np.asarray(3*[box_size]), np.asarray([x,y,z])*box_size, position_quantization_bits = 10)\n",
    "                    \n",
    "                    if len(draco_bytes)>12:\n",
    "                        fragment = Fragment(draco_bytes, [x, y, z], len(draco_bytes))   \n",
    "                        fragments.append(fragment)\n",
    "\n",
    "                vy, fy = trimesh.intersections.slice_faces_plane(\n",
    "                    vy, fy, plane_normal=nxy, plane_origin=nxy*(z+1)*box_size)\n",
    "\n",
    "            vx, fx = trimesh.intersections.slice_faces_plane(\n",
    "                vx, fx, plane_normal=nxz, plane_origin=nxz*(y+1)*box_size)\n",
    "        \n",
    "        v, f = trimesh.intersections.slice_faces_plane(\n",
    "            v, f, plane_normal=nyz, plane_origin=nyz*(x+1)*box_size)\n",
    "\n",
    "    return fragments"
   ]
  },
  {
   "cell_type": "code",
   "execution_count": 9,
   "metadata": {},
   "outputs": [
    {
     "name": "stdout",
     "output_type": "stream",
     "text": [
      "read\n",
      "[3.49597e+03 3.73832e+00 2.67659e+04]\n",
      "[27938.8   5679.44 59501.7 ]\n"
     ]
    }
   ],
   "source": [
    "mesh = trimesh.load(\n",
    "        \"/groups/cosem/cosem/ackermand/meshesForWebsite/res1decimation0p1/jrc_hela-1/er_seg/17.obj\")\n",
    "print(\"read\")\n",
    "print(np.min(mesh.vertices, axis=0))\n",
    "print(np.max(mesh.vertices, axis=0))"
   ]
  },
  {
   "cell_type": "code",
   "execution_count": 10,
   "metadata": {},
   "outputs": [
    {
     "name": "stderr",
     "output_type": "stream",
     "text": [
      "/groups/scicompsoft/home/ackermand/miniconda3/envs/simpler_multires/lib/python3.7/site-packages/distributed/node.py:161: UserWarning: Port 8787 is already in use.\n",
      "Perhaps you already have a cluster running?\n",
      "Hosting the HTTP server on port 38049 instead\n",
      "  f\"Port {expected} is already in use.\\n\"\n"
     ]
    }
   ],
   "source": [
    "from dask.distributed import Client, progress\n",
    "client = Client(threads_per_worker=4,\n",
    "                n_workers=16)\n"
   ]
  },
  {
   "cell_type": "code",
   "execution_count": 11,
   "metadata": {},
   "outputs": [],
   "source": [
    "import dask\n",
    "results = []\n",
    "v = mesh.vertices\n",
    "f = mesh.faces\n",
    "#face_maxs = np.max(mesh.vertices[mesh.faces],axis=1)\n",
    "\n",
    "nyz, nxz, nxy = np.eye(3)\n",
    "box_size = 64*4\n",
    "num_workers = 16\n",
    "start_fragment = np.min(mesh.vertices, axis=0).astype(int) // box_size - 1\n",
    "end_fragment =  np.max(mesh.vertices, axis=0).astype(int) // box_size + 1\n",
    "\n",
    "x_stride = int(np.ceil(1.0*(end_fragment[0]-start_fragment[0])/num_workers))\n",
    "for x in range(start_fragment[0], end_fragment[0]+1,x_stride):\n",
    "    vx, fx = trimesh.intersections.slice_faces_plane(\n",
    "        v, f, plane_normal=-nyz, plane_origin=nyz*(x+x_stride)*box_size)\n",
    "\n",
    "    results.append( generate_mesh_decomposition(vx, fx, box_size, start_fragment, end_fragment, x, x+x_stride) )\n",
    "\n",
    "    v, f = trimesh.intersections.slice_faces_plane(\n",
    "        v, f, plane_normal=nyz, plane_origin=nyz*(x+x_stride)*box_size)\n",
    "\n"
   ]
  },
  {
   "cell_type": "code",
   "execution_count": 12,
   "metadata": {},
   "outputs": [
    {
     "name": "stderr",
     "output_type": "stream",
     "text": [
      "/groups/scicompsoft/home/ackermand/miniconda3/envs/simpler_multires/lib/python3.7/site-packages/distributed/worker.py:3801: UserWarning: Large object of size 47.30 MiB detected in task graph: \n",
      "  (array([[13107.2       ,  4374.88      , 34502.2   ...  233]), 47, 54)\n",
      "Consider scattering large objects ahead of time\n",
      "with client.scatter to reduce scheduler burden and \n",
      "keep data on workers\n",
      "\n",
      "    future = client.submit(func, big_data)    # bad\n",
      "\n",
      "    big_future = client.scatter(big_data)     # good\n",
      "    future = client.submit(func, big_future)  # good\n",
      "  % (format_bytes(len(b)), s)\n"
     ]
    }
   ],
   "source": [
    "dask_results = dask.compute(* results)\n"
   ]
  },
  {
   "cell_type": "code",
   "execution_count": 13,
   "metadata": {},
   "outputs": [],
   "source": [
    "fragments = [fragment for fragments in dask_results for fragment in fragments]\n",
    "utils.write_files(\"test/simpler_multires\", \"17\", fragments, 0, [0], np.asarray([box_size,box_size,box_size]))"
   ]
  },
  {
   "cell_type": "code",
   "execution_count": null,
   "metadata": {},
   "outputs": [],
   "source": []
  }
 ],
 "metadata": {
  "kernelspec": {
   "display_name": "Python 3.7.11 64-bit ('simpler_multires': conda)",
   "metadata": {
    "interpreter": {
     "hash": "e93722678e8373e37eba4b5467bd88588cccde7a44fc2df6dbea0b1d942a9ff0"
    }
   },
   "name": "python3"
  },
  "language_info": {
   "codemirror_mode": {
    "name": "ipython",
    "version": 3
   },
   "file_extension": ".py",
   "mimetype": "text/x-python",
   "name": "python",
   "nbconvert_exporter": "python",
   "pygments_lexer": "ipython3",
   "version": "3.7.11"
  },
  "orig_nbformat": 2
 },
 "nbformat": 4,
 "nbformat_minor": 2
}