{
 "cells": [
  {
   "cell_type": "code",
   "execution_count": 46,
   "metadata": {},
   "outputs": [],
   "source": [
    "import trimesh\n",
    "import numpy as np\n",
    "import sys\n",
    "from io_utils import stdout_redirected\n",
    "import time\n",
    "from dvidutils import encode_faces_to_custom_drc_bytes\n",
    "import dask\n",
    "\n",
    "def get_face_indices_in_range(mesh, face_mins, stop):\n",
    "    max_edge_length = np.max(mesh.edges_unique_length)\n",
    "    rows = np.where(face_mins[:,0]<stop+max_edge_length)\n",
    "    return rows[0]\n",
    "\n",
    "def renumber_vertex_indices(faces, vertex_indices_in_range):\n",
    "    def renumber_indicies(a, val_old, val_new):\n",
    "        arr = np.empty(a.max()+1, dtype=val_new.dtype)\n",
    "        arr[val_old] = val_new\n",
    "        return arr[a]\n",
    "    \n",
    "    faces = np.reshape(faces,-1)\n",
    "    faces=renumber_indicies(faces,vertex_indices_in_range,np.arange(len(vertex_indices_in_range)))\n",
    "\n",
    "    return np.reshape(faces,(-1,3))\n",
    "\n",
    "@dask.delayed\n",
    "def generate_mesh_decomposition(v,f,x_start, x_end):\n",
    "    # Scale our coordinates.\n",
    "    # scale = nodes_per_dim/(maximum_coordinates-minimum_coordinates)\n",
    "    # verts_scaled = scale*(verts - minimum_coordinates)\n",
    "\n",
    "    # # Define plane normals and create a trimesh object.\n",
    "    # mesh = trimesh.Trimesh(vertices=verts_scaled, faces=faces)\n",
    "\n",
    "    # submeshes = []\n",
    "    # nodes = []\n",
    "    # ratio = nodes_per_dim/max_nodes_per_dim\n",
    "\n",
    "    nyz, nxz, nxy = np.eye(3)\n",
    "    ratio = 64*4\n",
    "    max_nodes_per_dim = 234\n",
    "    t = time.time()\n",
    "    total_blocks = 0\n",
    "    sz = 0\n",
    "    for x in range(x_start, x_end+1):\n",
    "        vx, fx = trimesh.intersections.slice_faces_plane(\n",
    "            v, f, plane_normal=-nyz, plane_origin=nyz*(x+1)*ratio)\n",
    "        for y in range(0, max_nodes_per_dim):\n",
    "            vy, fy = trimesh.intersections.slice_faces_plane(\n",
    "                vx, fx, plane_normal=-nxz, plane_origin=nxz*(y+1)*ratio)\n",
    "            # vy, fy = trimesh.intersections.slice_faces_plane(\n",
    "            #     vy, fy, plane_normal=nxz, plane_origin=nxz*y*ratio)\n",
    "            for z in range(0, max_nodes_per_dim):\n",
    "                vz, fz = trimesh.intersections.slice_faces_plane(\n",
    "                    vy, fy, plane_normal=-nxy, plane_origin=nxy*(z+1)*ratio)\n",
    "                if len(vz) > 0:\n",
    "                    normals = np.zeros(np.shape(vz))\n",
    "                    draco_bytes = normals\n",
    "                    #draco_bytes = encode_faces_to_custom_drc_bytes(\n",
    "                    #    vz, normals, fz, np.asarray(3*[ratio]), np.asarray([0, 0, 0]))\n",
    "\n",
    "                if (len(vz) > 0):\n",
    "                    total_blocks += 1\n",
    "                    sz = max(sz, len(draco_bytes))\n",
    "\n",
    "                vy, fy = trimesh.intersections.slice_faces_plane(\n",
    "                    vy, fy, plane_normal=nxy, plane_origin=nxy*(z+1)*ratio)\n",
    "\n",
    "            vx, fx = trimesh.intersections.slice_faces_plane(\n",
    "                vx, fx, plane_normal=nxz, plane_origin=nxz*(y+1)*ratio)\n",
    "        \n",
    "        v, f = trimesh.intersections.slice_faces_plane(\n",
    "            v, f, plane_normal=nyz, plane_origin=nyz*(x+1)*ratio)\n",
    "    print((x, y, z, total_blocks, time.time()-t, sz))\n",
    "    return (x, y, z, total_blocks, time.time()-t, sz)"
   ]
  },
  {
   "cell_type": "code",
   "execution_count": 6,
   "metadata": {},
   "outputs": [
    {
     "name": "stdout",
     "output_type": "stream",
     "text": [
      "read\n",
      "[3.49597e+03 3.73832e+00 2.67659e+04]\n",
      "[27938.8   5679.44 59501.7 ]\n"
     ]
    }
   ],
   "source": [
    "mesh = trimesh.load(\n",
    "        \"/groups/cosem/cosem/ackermand/meshesForWebsite/res1decimation0p1/jrc_hela-1/er_seg/17.obj\")\n",
    "print(\"read\")\n",
    "print(np.min(mesh.vertices, axis=0))\n",
    "print(np.max(mesh.vertices, axis=0))"
   ]
  },
  {
   "cell_type": "code",
   "execution_count": 8,
   "metadata": {},
   "outputs": [
    {
     "name": "stderr",
     "output_type": "stream",
     "text": [
      "distributed.diskutils - INFO - Found stale lock file and directory '/groups/scicompsoft/home/ackermand/Programming/multiresolutionMeshes/dask-worker-space/worker-5pxy494t', purging\n",
      "distributed.diskutils - INFO - Found stale lock file and directory '/groups/scicompsoft/home/ackermand/Programming/multiresolutionMeshes/dask-worker-space/worker-4dp_nkig', purging\n",
      "distributed.diskutils - INFO - Found stale lock file and directory '/groups/scicompsoft/home/ackermand/Programming/multiresolutionMeshes/dask-worker-space/worker-na8qzu9y', purging\n",
      "distributed.diskutils - INFO - Found stale lock file and directory '/groups/scicompsoft/home/ackermand/Programming/multiresolutionMeshes/dask-worker-space/worker-ehpi4plq', purging\n",
      "distributed.diskutils - INFO - Found stale lock file and directory '/groups/scicompsoft/home/ackermand/Programming/multiresolutionMeshes/dask-worker-space/worker-5aex28y3', purging\n",
      "distributed.diskutils - INFO - Found stale lock file and directory '/groups/scicompsoft/home/ackermand/Programming/multiresolutionMeshes/dask-worker-space/worker-s10z0gqw', purging\n",
      "distributed.diskutils - INFO - Found stale lock file and directory '/groups/scicompsoft/home/ackermand/Programming/multiresolutionMeshes/dask-worker-space/worker-7onse939', purging\n",
      "distributed.diskutils - INFO - Found stale lock file and directory '/groups/scicompsoft/home/ackermand/Programming/multiresolutionMeshes/dask-worker-space/worker-61g631mi', purging\n",
      "distributed.diskutils - INFO - Found stale lock file and directory '/groups/scicompsoft/home/ackermand/Programming/multiresolutionMeshes/dask-worker-space/worker-wfx3tju4', purging\n",
      "distributed.diskutils - INFO - Found stale lock file and directory '/groups/scicompsoft/home/ackermand/Programming/multiresolutionMeshes/dask-worker-space/worker-h7jkw0bs', purging\n",
      "distributed.diskutils - INFO - Found stale lock file and directory '/groups/scicompsoft/home/ackermand/Programming/multiresolutionMeshes/dask-worker-space/worker-mqmhedx6', purging\n",
      "distributed.diskutils - INFO - Found stale lock file and directory '/groups/scicompsoft/home/ackermand/Programming/multiresolutionMeshes/dask-worker-space/worker-jk7qmq77', purging\n",
      "distributed.diskutils - INFO - Found stale lock file and directory '/groups/scicompsoft/home/ackermand/Programming/multiresolutionMeshes/dask-worker-space/worker-ycpzfy1l', purging\n",
      "distributed.diskutils - INFO - Found stale lock file and directory '/groups/scicompsoft/home/ackermand/Programming/multiresolutionMeshes/dask-worker-space/worker-72vlw4ri', purging\n",
      "distributed.diskutils - INFO - Found stale lock file and directory '/groups/scicompsoft/home/ackermand/Programming/multiresolutionMeshes/dask-worker-space/worker-8ip3oycw', purging\n",
      "distributed.diskutils - INFO - Found stale lock file and directory '/groups/scicompsoft/home/ackermand/Programming/multiresolutionMeshes/dask-worker-space/worker-oybkp0tb', purging\n",
      "distributed.diskutils - INFO - Found stale lock file and directory '/groups/scicompsoft/home/ackermand/Programming/multiresolutionMeshes/dask-worker-space/worker-si2wkw1_', purging\n",
      "distributed.diskutils - INFO - Found stale lock file and directory '/groups/scicompsoft/home/ackermand/Programming/multiresolutionMeshes/dask-worker-space/worker-zclsyvz2', purging\n",
      "distributed.diskutils - INFO - Found stale lock file and directory '/groups/scicompsoft/home/ackermand/Programming/multiresolutionMeshes/dask-worker-space/worker-xgr9p1ky', purging\n",
      "distributed.diskutils - INFO - Found stale lock file and directory '/groups/scicompsoft/home/ackermand/Programming/multiresolutionMeshes/dask-worker-space/worker-f4_9vgef', purging\n",
      "distributed.diskutils - INFO - Found stale lock file and directory '/groups/scicompsoft/home/ackermand/Programming/multiresolutionMeshes/dask-worker-space/worker-jadxwlcp', purging\n",
      "distributed.diskutils - INFO - Found stale lock file and directory '/groups/scicompsoft/home/ackermand/Programming/multiresolutionMeshes/dask-worker-space/worker-n_bmc7v7', purging\n",
      "distributed.diskutils - INFO - Found stale lock file and directory '/groups/scicompsoft/home/ackermand/Programming/multiresolutionMeshes/dask-worker-space/worker-tgyydz0w', purging\n",
      "distributed.diskutils - INFO - Found stale lock file and directory '/groups/scicompsoft/home/ackermand/Programming/multiresolutionMeshes/dask-worker-space/worker-h2h566mc', purging\n",
      "distributed.diskutils - INFO - Found stale lock file and directory '/groups/scicompsoft/home/ackermand/Programming/multiresolutionMeshes/dask-worker-space/worker-8aqgluif', purging\n",
      "distributed.diskutils - INFO - Found stale lock file and directory '/groups/scicompsoft/home/ackermand/Programming/multiresolutionMeshes/dask-worker-space/worker-0ks1wybx', purging\n",
      "distributed.diskutils - INFO - Found stale lock file and directory '/groups/scicompsoft/home/ackermand/Programming/multiresolutionMeshes/dask-worker-space/worker-ppnobe5h', purging\n",
      "distributed.diskutils - INFO - Found stale lock file and directory '/groups/scicompsoft/home/ackermand/Programming/multiresolutionMeshes/dask-worker-space/worker-r18y3njo', purging\n",
      "distributed.diskutils - INFO - Found stale lock file and directory '/groups/scicompsoft/home/ackermand/Programming/multiresolutionMeshes/dask-worker-space/worker-b2g78j2y', purging\n",
      "distributed.diskutils - INFO - Found stale lock file and directory '/groups/scicompsoft/home/ackermand/Programming/multiresolutionMeshes/dask-worker-space/worker-77a3tb8x', purging\n",
      "distributed.diskutils - INFO - Found stale lock file and directory '/groups/scicompsoft/home/ackermand/Programming/multiresolutionMeshes/dask-worker-space/worker-qb4c8xho', purging\n",
      "distributed.diskutils - INFO - Found stale lock file and directory '/groups/scicompsoft/home/ackermand/Programming/multiresolutionMeshes/dask-worker-space/worker-hd1houqn', purging\n"
     ]
    }
   ],
   "source": [
    "from dask.distributed import Client, progress\n",
    "client = Client(threads_per_worker=4,\n",
    "                n_workers=16)\n"
   ]
  },
  {
   "cell_type": "code",
   "execution_count": 40,
   "metadata": {},
   "outputs": [
    {
     "name": "stdout",
     "output_type": "stream",
     "text": [
      "7.0\n"
     ]
    }
   ],
   "source": []
  },
  {
   "cell_type": "code",
   "execution_count": 52,
   "metadata": {},
   "outputs": [
    {
     "name": "stdout",
     "output_type": "stream",
     "text": [
      "7\n",
      "sliced 1\n",
      "13 7748465 9394\n",
      "sliced 1\n",
      "20 7711478 50580\n",
      "sliced 1\n",
      "27 7327510 447114\n",
      "sliced 1\n",
      "34 6743500 644101\n",
      "sliced 1\n",
      "41 6178618 642050\n",
      "sliced 1\n",
      "48 5527039 738118\n",
      "sliced 1\n",
      "55 4678963 962142\n",
      "sliced 1\n",
      "62 3575471 1226244\n",
      "sliced 1\n",
      "69 2460802 1237086\n",
      "sliced 1\n",
      "76 1361363 1203932\n",
      "sliced 1\n",
      "83 489481 928836\n",
      "sliced 1\n",
      "90 122156 382083\n",
      "sliced 1\n",
      "97 6451 118503\n",
      "sliced 1\n",
      "104 0 6451\n"
     ]
    }
   ],
   "source": [
    "import dask\n",
    "results = []\n",
    "v = mesh.vertices\n",
    "f = mesh.faces\n",
    "#face_maxs = np.max(mesh.vertices[mesh.faces],axis=1)\n",
    "\n",
    "nyz, nxz, nxy = np.eye(3)\n",
    "box_size = 64*4\n",
    "num_workers = 16\n",
    "x_start = int(np.floor(np.min(mesh.vertices[:,0])/box_size))\n",
    "x_end = int(np.ceil(np.max(mesh.vertices[:,0])/box_size))\n",
    "\n",
    "x_stride = int(np.ceil(1.0*(x_end-x_start)/num_workers))\n",
    "print(x_stride)\n",
    "for x in range(x_start, x_end+1,x_stride):\n",
    "    # before slicing, try to limit number of vertices\n",
    "    #face_indices_in_range = get_face_indices_in_range(mesh, face_maxs, (x+1)*ratio)\n",
    "    #vertex_indices_in_range = np.unique(mesh.faces[face_indices_in_range])\n",
    "    #v_new = v[vertex_indices_in_range]\n",
    "    #f_new = mesh.faces[face_indices_in_range]\n",
    "    #f_new = renumber_vertex_indices(f_new, vertex_indices_in_range)\n",
    "\n",
    "    vx, fx = trimesh.intersections.slice_faces_plane(\n",
    "        v, f, plane_normal=-nyz, plane_origin=nyz*(x+x_stride)*box_size)\n",
    "    print(\"sliced 1\")\n",
    "    big_future_vx = client.scatter(vx)\n",
    "    big_future_fx = client.scatter(fx)\n",
    "    results.append( generate_mesh_decomposition(vx, fx, x, x+x_stride) )\n",
    "\n",
    "    v, f = trimesh.intersections.slice_faces_plane(\n",
    "        v, f, plane_normal=nyz, plane_origin=nyz*(x+x_stride)*box_size)\n",
    "    print(x,len(v), len(vx))\n",
    "    #v, f = trimesh.intersections.slice_faces_plane(\n",
    "    #    v, f, plane_normal=nyz, plane_origin=nyz*(x+1)*ratio)\n",
    "\n"
   ]
  },
  {
   "cell_type": "code",
   "execution_count": 53,
   "metadata": {},
   "outputs": [
    {
     "name": "stdout",
     "output_type": "stream",
     "text": [
      "(111, 233, 233, 94, 4.401657342910767, 895)\n",
      "(20, 233, 233, 112, 5.4398512840271, 1013)\n",
      "(27, 233, 233, 694, 11.316652297973633, 969)\n",
      "(104, 233, 233, 1051, 21.85186767578125, 1255)\n",
      "(97, 233, 233, 2889, 57.94137263298035, 1456)\n",
      "(34, 233, 233, 4234, 67.60677480697632, 1536)\n",
      "(48, 233, 233, 4700, 88.35539984703064, 1439)\n",
      "(41, 233, 233, 4937, 88.66699457168579, 1540)\n",
      "(55, 233, 233, 5400, 99.10814189910889, 1640)\n",
      "(62, 233, 233, 6626, 121.77773070335388, 1646)\n",
      "(90, 233, 233, 6504, 122.05378484725952, 1721)\n",
      "(83, 233, 233, 8046, 148.49018597602844, 1649)\n",
      "(69, 233, 233, 7746, 152.5274794101715, 1600)\n",
      "(76, 233, 233, 7858, 152.82385277748108, 1520)\n",
      "(20, 233, 233, 112, 5.439925909042358, 1013)\n"
     ]
    }
   ],
   "source": [
    "temp = dask.compute(* results)\n",
    "print(temp[0])"
   ]
  },
  {
   "cell_type": "code",
   "execution_count": 54,
   "metadata": {},
   "outputs": [
    {
     "name": "stdout",
     "output_type": "stream",
     "text": [
      "1142.362603187561 71.39766269922256\n"
     ]
    }
   ],
   "source": [
    "total_time = 0\n",
    "for t in temp:\n",
    "    total_time += t[4]\n",
    "\n",
    "print(total_time,total_time/16)"
   ]
  },
  {
   "cell_type": "code",
   "execution_count": 6,
   "metadata": {},
   "outputs": [],
   "source": [
    "#np.max(mesh.edges_unique_length)\n",
    "face_mins = np.min(mesh.vertices[mesh.faces],axis=1)\n",
    "face_maxs = np.max(mesh.vertices[mesh.faces],axis=1)"
   ]
  },
  {
   "cell_type": "code",
   "execution_count": 7,
   "metadata": {},
   "outputs": [],
   "source": [
    "rows = np.where((face_mins[:,0]>0) & \n",
    "(face_maxs[:,0]<50000) & \n",
    "(face_mins[:,1]>0) & \n",
    "(face_maxs[:,1]<50000) & \n",
    "(face_mins[:,2]>0) & \n",
    "(face_maxs[:,2]<50000))"
   ]
  },
  {
   "cell_type": "code",
   "execution_count": 32,
   "metadata": {},
   "outputs": [
    {
     "data": {
      "text/plain": "TrackedArray(3495.97)"
     },
     "execution_count": 32,
     "metadata": {},
     "output_type": "execute_result"
    }
   ],
   "source": [
    "np.min(face_mins[:,0])"
   ]
  },
  {
   "cell_type": "code",
   "execution_count": 19,
   "metadata": {},
   "outputs": [
    {
     "data": {
      "text/plain": "TrackedArray([[ 7864.32,  2635.89, 41387.8 ],\n              [ 7864.32,  1232.67, 43349.9 ],\n              [13107.2 ,  4374.88, 34502.2 ],\n              ...,\n              [ 9212.87,  1372.16, 39911.4 ],\n              [ 9796.55,  3542.41, 36529.2 ],\n              [ 9796.55,  2712.98, 49511.6 ]])"
     },
     "execution_count": 19,
     "metadata": {},
     "output_type": "execute_result"
    }
   ],
   "source": [
    "mesh.vertices[np.unique(mesh.faces[rows])]"
   ]
  },
  {
   "cell_type": "code",
   "execution_count": 55,
   "metadata": {},
   "outputs": [
    {
     "name": "stdout",
     "output_type": "stream",
     "text": [
      "104555\n",
      "490.09894196580495\n",
      "15827909\n",
      "yo\n"
     ]
    }
   ],
   "source": [
    "face_indices_in_range = get_face_indices_in_range(mesh, face_mins, (24+1)*64*4)\n",
    "print(len(face_indices_in_range))\n",
    "print(np.max(mesh.edges_unique_length))\n",
    "print(len(mesh.faces))\n",
    "vertex_indices_in_range = np.unique(mesh.faces[face_indices_in_range])\n",
    "v_new = mesh.vertices[vertex_indices_in_range]\n",
    "\n",
    "f_new = mesh.faces[face_indices_in_range]\n",
    "print(\"yo\")\n"
   ]
  },
  {
   "cell_type": "code",
   "execution_count": 61,
   "metadata": {},
   "outputs": [
    {
     "name": "stdout",
     "output_type": "stream",
     "text": [
      "[[7677359 1264586 1739669]\n",
      " [7732071 7677359 1739669]\n",
      " [7677359  539375 1264586]\n",
      " ...\n",
      " [7712171 3872239 3745982]\n",
      " [4794047 3745982 3872239]\n",
      " [6974700 3745982 4794047]]\n",
      "7757066\n",
      "52455\n",
      "[[47793  4623  6339]\n",
      " [50966 47793  6339]\n",
      " [47793  2018  4623]\n",
      " ...\n",
      " [49742 26176 18457]\n",
      " [29783 18457 26176]\n",
      " [37520 18457 29783]]\n"
     ]
    }
   ],
   "source": [
    "def renumber_indicies(a, val_old, val_new):\n",
    "    arr = np.empty(a.max()+1, dtype=val_new.dtype)\n",
    "    arr[val_old] = val_new\n",
    "    return arr[a]\n",
    "\n",
    "f_temp = np.reshape(f_new,-1)\n",
    "f_temp=renumber_indicies(f_temp,vertex_indices_in_range,np.arange(len(vertex_indices_in_range)))\n",
    "\n",
    "f_temp = np.reshape(f_temp,(-1,3))"
   ]
  },
  {
   "cell_type": "code",
   "execution_count": 10,
   "metadata": {},
   "outputs": [
    {
     "name": "stdout",
     "output_type": "stream",
     "text": [
      "(23, 233, 233, 136, 5.585337162017822, 2112)\n",
      "(26, 233, 233, 283, 9.896867275238037, 2397)\n",
      "(24, 233, 233, 166, 5.333194255828857, 2112)\n",
      "(25, 233, 233, 204, 6.561883926391602, 2137)\n",
      "(27, 233, 233, 374, 16.86083221435547, 2958)\n",
      "(29, 233, 233, 667, 36.13961863517761, 4213)\n",
      "(28, 233, 233, 520, 33.232218980789185, 3423)\n"
     ]
    },
    {
     "name": "stderr",
     "output_type": "stream",
     "text": [
      "Process ForkPoolWorker-60:\n",
      "Process ForkPoolWorker-50:\n",
      "Process ForkPoolWorker-48:\n",
      "Process ForkPoolWorker-59:\n",
      "Process ForkPoolWorker-57:\n",
      "Process ForkPoolWorker-65:\n"
     ]
    },
    {
     "ename": "KeyboardInterrupt",
     "evalue": "",
     "output_type": "error",
     "traceback": [
      "\u001b[0;31m---------------------------------------------------------------------------\u001b[0m",
      "\u001b[0;31mKeyboardInterrupt\u001b[0m                         Traceback (most recent call last)",
      "\u001b[0;32m/tmp/ipykernel_1984/2477956344.py\u001b[0m in \u001b[0;36m<module>\u001b[0;34m\u001b[0m\n\u001b[1;32m      4\u001b[0m \u001b[0;34m\u001b[0m\u001b[0m\n\u001b[1;32m      5\u001b[0m \u001b[0;32mwith\u001b[0m \u001b[0mPool\u001b[0m\u001b[0;34m(\u001b[0m\u001b[0mprocesses\u001b[0m \u001b[0;34m=\u001b[0m \u001b[0;36m20\u001b[0m\u001b[0;34m)\u001b[0m \u001b[0;32mas\u001b[0m \u001b[0mPool\u001b[0m\u001b[0;34m:\u001b[0m\u001b[0;34m\u001b[0m\u001b[0;34m\u001b[0m\u001b[0m\n\u001b[0;32m----> 6\u001b[0;31m    \u001b[0mlist_of_result\u001b[0m \u001b[0;34m=\u001b[0m \u001b[0mPool\u001b[0m\u001b[0;34m.\u001b[0m\u001b[0mmap\u001b[0m\u001b[0;34m(\u001b[0m\u001b[0mgenerate_mesh_decomposition\u001b[0m\u001b[0;34m,\u001b[0m \u001b[0mlist\u001b[0m\u001b[0;34m(\u001b[0m\u001b[0mrange\u001b[0m\u001b[0;34m(\u001b[0m\u001b[0;36m23\u001b[0m\u001b[0;34m,\u001b[0m\u001b[0;36m234\u001b[0m\u001b[0;34m)\u001b[0m\u001b[0;34m)\u001b[0m\u001b[0;34m)\u001b[0m\u001b[0;34m\u001b[0m\u001b[0;34m\u001b[0m\u001b[0m\n\u001b[0m",
      "\u001b[0;32m~/miniconda3/envs/simpler_multires/lib/python3.7/multiprocessing/pool.py\u001b[0m in \u001b[0;36mmap\u001b[0;34m(self, func, iterable, chunksize)\u001b[0m\n\u001b[1;32m    266\u001b[0m         \u001b[0;32min\u001b[0m \u001b[0ma\u001b[0m \u001b[0mlist\u001b[0m \u001b[0mthat\u001b[0m \u001b[0;32mis\u001b[0m \u001b[0mreturned\u001b[0m\u001b[0;34m.\u001b[0m\u001b[0;34m\u001b[0m\u001b[0;34m\u001b[0m\u001b[0m\n\u001b[1;32m    267\u001b[0m         '''\n\u001b[0;32m--> 268\u001b[0;31m         \u001b[0;32mreturn\u001b[0m \u001b[0mself\u001b[0m\u001b[0;34m.\u001b[0m\u001b[0m_map_async\u001b[0m\u001b[0;34m(\u001b[0m\u001b[0mfunc\u001b[0m\u001b[0;34m,\u001b[0m \u001b[0miterable\u001b[0m\u001b[0;34m,\u001b[0m \u001b[0mmapstar\u001b[0m\u001b[0;34m,\u001b[0m \u001b[0mchunksize\u001b[0m\u001b[0;34m)\u001b[0m\u001b[0;34m.\u001b[0m\u001b[0mget\u001b[0m\u001b[0;34m(\u001b[0m\u001b[0;34m)\u001b[0m\u001b[0;34m\u001b[0m\u001b[0;34m\u001b[0m\u001b[0m\n\u001b[0m\u001b[1;32m    269\u001b[0m \u001b[0;34m\u001b[0m\u001b[0m\n\u001b[1;32m    270\u001b[0m     \u001b[0;32mdef\u001b[0m \u001b[0mstarmap\u001b[0m\u001b[0;34m(\u001b[0m\u001b[0mself\u001b[0m\u001b[0;34m,\u001b[0m \u001b[0mfunc\u001b[0m\u001b[0;34m,\u001b[0m \u001b[0miterable\u001b[0m\u001b[0;34m,\u001b[0m \u001b[0mchunksize\u001b[0m\u001b[0;34m=\u001b[0m\u001b[0;32mNone\u001b[0m\u001b[0;34m)\u001b[0m\u001b[0;34m:\u001b[0m\u001b[0;34m\u001b[0m\u001b[0;34m\u001b[0m\u001b[0m\n",
      "\u001b[0;32m~/miniconda3/envs/simpler_multires/lib/python3.7/multiprocessing/pool.py\u001b[0m in \u001b[0;36mget\u001b[0;34m(self, timeout)\u001b[0m\n\u001b[1;32m    649\u001b[0m \u001b[0;34m\u001b[0m\u001b[0m\n\u001b[1;32m    650\u001b[0m     \u001b[0;32mdef\u001b[0m \u001b[0mget\u001b[0m\u001b[0;34m(\u001b[0m\u001b[0mself\u001b[0m\u001b[0;34m,\u001b[0m \u001b[0mtimeout\u001b[0m\u001b[0;34m=\u001b[0m\u001b[0;32mNone\u001b[0m\u001b[0;34m)\u001b[0m\u001b[0;34m:\u001b[0m\u001b[0;34m\u001b[0m\u001b[0;34m\u001b[0m\u001b[0m\n\u001b[0;32m--> 651\u001b[0;31m         \u001b[0mself\u001b[0m\u001b[0;34m.\u001b[0m\u001b[0mwait\u001b[0m\u001b[0;34m(\u001b[0m\u001b[0mtimeout\u001b[0m\u001b[0;34m)\u001b[0m\u001b[0;34m\u001b[0m\u001b[0;34m\u001b[0m\u001b[0m\n\u001b[0m\u001b[1;32m    652\u001b[0m         \u001b[0;32mif\u001b[0m \u001b[0;32mnot\u001b[0m \u001b[0mself\u001b[0m\u001b[0;34m.\u001b[0m\u001b[0mready\u001b[0m\u001b[0;34m(\u001b[0m\u001b[0;34m)\u001b[0m\u001b[0;34m:\u001b[0m\u001b[0;34m\u001b[0m\u001b[0;34m\u001b[0m\u001b[0m\n\u001b[1;32m    653\u001b[0m             \u001b[0;32mraise\u001b[0m \u001b[0mTimeoutError\u001b[0m\u001b[0;34m\u001b[0m\u001b[0;34m\u001b[0m\u001b[0m\n",
      "\u001b[0;32m~/miniconda3/envs/simpler_multires/lib/python3.7/multiprocessing/pool.py\u001b[0m in \u001b[0;36mwait\u001b[0;34m(self, timeout)\u001b[0m\n\u001b[1;32m    646\u001b[0m \u001b[0;34m\u001b[0m\u001b[0m\n\u001b[1;32m    647\u001b[0m     \u001b[0;32mdef\u001b[0m \u001b[0mwait\u001b[0m\u001b[0;34m(\u001b[0m\u001b[0mself\u001b[0m\u001b[0;34m,\u001b[0m \u001b[0mtimeout\u001b[0m\u001b[0;34m=\u001b[0m\u001b[0;32mNone\u001b[0m\u001b[0;34m)\u001b[0m\u001b[0;34m:\u001b[0m\u001b[0;34m\u001b[0m\u001b[0;34m\u001b[0m\u001b[0m\n\u001b[0;32m--> 648\u001b[0;31m         \u001b[0mself\u001b[0m\u001b[0;34m.\u001b[0m\u001b[0m_event\u001b[0m\u001b[0;34m.\u001b[0m\u001b[0mwait\u001b[0m\u001b[0;34m(\u001b[0m\u001b[0mtimeout\u001b[0m\u001b[0;34m)\u001b[0m\u001b[0;34m\u001b[0m\u001b[0;34m\u001b[0m\u001b[0m\n\u001b[0m\u001b[1;32m    649\u001b[0m \u001b[0;34m\u001b[0m\u001b[0m\n\u001b[1;32m    650\u001b[0m     \u001b[0;32mdef\u001b[0m \u001b[0mget\u001b[0m\u001b[0;34m(\u001b[0m\u001b[0mself\u001b[0m\u001b[0;34m,\u001b[0m \u001b[0mtimeout\u001b[0m\u001b[0;34m=\u001b[0m\u001b[0;32mNone\u001b[0m\u001b[0;34m)\u001b[0m\u001b[0;34m:\u001b[0m\u001b[0;34m\u001b[0m\u001b[0;34m\u001b[0m\u001b[0m\n",
      "\u001b[0;32m~/miniconda3/envs/simpler_multires/lib/python3.7/threading.py\u001b[0m in \u001b[0;36mwait\u001b[0;34m(self, timeout)\u001b[0m\n\u001b[1;32m    550\u001b[0m             \u001b[0msignaled\u001b[0m \u001b[0;34m=\u001b[0m \u001b[0mself\u001b[0m\u001b[0;34m.\u001b[0m\u001b[0m_flag\u001b[0m\u001b[0;34m\u001b[0m\u001b[0;34m\u001b[0m\u001b[0m\n\u001b[1;32m    551\u001b[0m             \u001b[0;32mif\u001b[0m \u001b[0;32mnot\u001b[0m \u001b[0msignaled\u001b[0m\u001b[0;34m:\u001b[0m\u001b[0;34m\u001b[0m\u001b[0;34m\u001b[0m\u001b[0m\n\u001b[0;32m--> 552\u001b[0;31m                 \u001b[0msignaled\u001b[0m \u001b[0;34m=\u001b[0m \u001b[0mself\u001b[0m\u001b[0;34m.\u001b[0m\u001b[0m_cond\u001b[0m\u001b[0;34m.\u001b[0m\u001b[0mwait\u001b[0m\u001b[0;34m(\u001b[0m\u001b[0mtimeout\u001b[0m\u001b[0;34m)\u001b[0m\u001b[0;34m\u001b[0m\u001b[0;34m\u001b[0m\u001b[0m\n\u001b[0m\u001b[1;32m    553\u001b[0m             \u001b[0;32mreturn\u001b[0m \u001b[0msignaled\u001b[0m\u001b[0;34m\u001b[0m\u001b[0;34m\u001b[0m\u001b[0m\n\u001b[1;32m    554\u001b[0m \u001b[0;34m\u001b[0m\u001b[0m\n",
      "\u001b[0;32m~/miniconda3/envs/simpler_multires/lib/python3.7/threading.py\u001b[0m in \u001b[0;36mwait\u001b[0;34m(self, timeout)\u001b[0m\n\u001b[1;32m    294\u001b[0m         \u001b[0;32mtry\u001b[0m\u001b[0;34m:\u001b[0m    \u001b[0;31m# restore state no matter what (e.g., KeyboardInterrupt)\u001b[0m\u001b[0;34m\u001b[0m\u001b[0;34m\u001b[0m\u001b[0m\n\u001b[1;32m    295\u001b[0m             \u001b[0;32mif\u001b[0m \u001b[0mtimeout\u001b[0m \u001b[0;32mis\u001b[0m \u001b[0;32mNone\u001b[0m\u001b[0;34m:\u001b[0m\u001b[0;34m\u001b[0m\u001b[0;34m\u001b[0m\u001b[0m\n\u001b[0;32m--> 296\u001b[0;31m                 \u001b[0mwaiter\u001b[0m\u001b[0;34m.\u001b[0m\u001b[0macquire\u001b[0m\u001b[0;34m(\u001b[0m\u001b[0;34m)\u001b[0m\u001b[0;34m\u001b[0m\u001b[0;34m\u001b[0m\u001b[0m\n\u001b[0m\u001b[1;32m    297\u001b[0m                 \u001b[0mgotit\u001b[0m \u001b[0;34m=\u001b[0m \u001b[0;32mTrue\u001b[0m\u001b[0;34m\u001b[0m\u001b[0;34m\u001b[0m\u001b[0m\n\u001b[1;32m    298\u001b[0m             \u001b[0;32melse\u001b[0m\u001b[0;34m:\u001b[0m\u001b[0;34m\u001b[0m\u001b[0;34m\u001b[0m\u001b[0m\n",
      "\u001b[0;31mKeyboardInterrupt\u001b[0m: "
     ]
    }
   ],
   "source": [
    "# https://stackoverflow.com/questions/53351060/dask-shared-memory-in-parallel-model\n",
    "\n",
    "from multiprocessing import Pool\n",
    "\n",
    "with Pool(processes = 20) as Pool:\n",
    "   list_of_result = Pool.map(generate_mesh_decomposition, list(range(23,234)))"
   ]
  },
  {
   "cell_type": "code",
   "execution_count": 9,
   "metadata": {},
   "outputs": [
    {
     "name": "stdout",
     "output_type": "stream",
     "text": [
      "20\n"
     ]
    }
   ],
   "source": [
    "import multiprocessing\n",
    "print( multiprocessing.cpu_count())\n"
   ]
  },
  {
   "cell_type": "code",
   "execution_count": null,
   "metadata": {},
   "outputs": [],
   "source": []
  }
 ],
 "metadata": {
  "kernelspec": {
   "display_name": "Python 3.7.11 64-bit ('simpler_multires': conda)",
   "metadata": {
    "interpreter": {
     "hash": "e93722678e8373e37eba4b5467bd88588cccde7a44fc2df6dbea0b1d942a9ff0"
    }
   },
   "name": "python3"
  },
  "language_info": {
   "codemirror_mode": {
    "name": "ipython",
    "version": 3
   },
   "file_extension": ".py",
   "mimetype": "text/x-python",
   "name": "python",
   "nbconvert_exporter": "python",
   "pygments_lexer": "ipython3",
   "version": "3.7.11"
  },
  "orig_nbformat": 2
 },
 "nbformat": 4,
 "nbformat_minor": 2
}