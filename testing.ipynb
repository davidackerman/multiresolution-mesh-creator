{
 "cells": [
  {
   "cell_type": "code",
   "execution_count": 1,
   "metadata": {},
   "outputs": [],
   "source": [
    "import trimesh\n",
    "from trimesh.intersections import slice_faces_plane\n",
    "import numpy as np\n",
    "from io_utils import stdout_redirected\n",
    "from dvidutils import encode_faces_to_custom_drc_bytes\n",
    "import dask\n",
    "import utils\n",
    "import time\n",
    "\n",
    "from collections import namedtuple \n",
    "import openmesh as om\n",
    "import sys\n",
    "import os\n",
    "import pyfqmr\n",
    "from numba import jit\n",
    "\n",
    "\n",
    "Fragment = namedtuple('Fragment', ['draco_bytes', 'position','offset'])\n",
    "\n",
    "def get_face_indices_in_range(mesh, face_mins, stop):\n",
    "    max_edge_length = np.max(mesh.edges_unique_length)\n",
    "    rows = np.where(face_mins[:,0]<stop+max_edge_length)\n",
    "    return rows[0]\n",
    "\n",
    "def renumber_vertex_indices(faces, vertex_indices_in_range):\n",
    "    def renumber_indicies(a, val_old, val_new):\n",
    "        arr = np.empty(a.max()+1, dtype=val_new.dtype)\n",
    "        arr[val_old] = val_new\n",
    "        return arr[a]\n",
    "    \n",
    "    faces = np.reshape(faces,-1)\n",
    "    faces=renumber_indicies(faces,vertex_indices_in_range,np.arange(len(vertex_indices_in_range)))\n",
    "\n",
    "    return np.reshape(faces,(-1,3))\n",
    "\n",
    "def numba_temp(v,f,plane_normal,plane_origin):\n",
    "    v, f = slice_faces_plane(\n",
    "                    v, f, plane_normal=plane_normal, plane_origin=plane_origin)\n",
    "    return v,f \n",
    "\n",
    "def my_slice_faces_plane(v,f,plane_normal, plane_origin):\n",
    "    # Wrapper for trimesh slice_faces_plane, checks that there are vertices and faces and catches an error that happens if the whole mesh is to one side\n",
    "\n",
    "    if len(v)>0 and len(f)>0:\n",
    "        try:\n",
    "            v, f = trimesh.intersections.slice_faces_plane(v,f,plane_normal,plane_origin)\n",
    "        except ValueError as e:\n",
    "            if str(e) != \"input must be 1D integers!\":\n",
    "                raise\n",
    "            else:\n",
    "                pass\n",
    "\n",
    "    return v,f\n",
    "\n",
    "def update_dict(combined_fragments_dictionary, fragment_origin, v, f):              \n",
    "    if fragment_origin in combined_fragments_dictionary:\n",
    "        [v_combined, f_combined] = combined_fragments_dictionary[fragment_origin]\n",
    "\n",
    "        f_combined = np.vstack((f_combined, f+len(v_combined)))\n",
    "        v_combined = np.vstack((v_combined, v))\n",
    "\n",
    "        combined_fragments_dictionary[fragment_origin] = [v_combined, f_combined]\n",
    "    else:\n",
    "        combined_fragments_dictionary[fragment_origin] = [v, f]\n",
    "    \n",
    "    return combined_fragments_dictionary\n",
    "\n",
    "@dask.delayed\n",
    "def generate_mesh_decomposition(v,f,lod_0_box_size, start_fragment, end_fragment, x_start, x_end, current_lod, starting_lod):\n",
    "    combined_fragments_dictionary = {}\n",
    "    fragments = []\n",
    "\n",
    "    nyz, nxz, nxy = np.eye(3)\n",
    "\n",
    "    if current_lod != starting_lod:\n",
    "        sub_box_size = lod_0_box_size*2**(current_lod-1 - starting_lod)\n",
    "        start_fragment*=2 #since want it to be divisible by 2x2x2 subregions\n",
    "        end_fragment*=2\n",
    "        x_start *= 2\n",
    "        x_end *= 2\n",
    "    else:\n",
    "        sub_box_size = lod_0_box_size\n",
    "    \n",
    "    for x in range(x_start, x_end):\n",
    "        vx, fx = my_slice_faces_plane(\n",
    "            v, f, plane_normal=-nyz, plane_origin=nyz*(x+1)*sub_box_size)\n",
    "\n",
    "        for y in range(start_fragment[1], end_fragment[1]):\n",
    "            vy, fy = my_slice_faces_plane(vx, fx, plane_normal=-nxz, plane_origin=nxz*(y+1)*sub_box_size)\n",
    "\n",
    "            for z in range(start_fragment[2], end_fragment[2]):\n",
    "                vz, fz = my_slice_faces_plane(\n",
    "                    vy, fy, plane_normal=-nxy, plane_origin=nxy*(z+1)*sub_box_size)                    \n",
    "\n",
    "                if current_lod != starting_lod:\n",
    "                    fragment_origin = tuple(  np.asarray([x,y,z]) // 2)\n",
    "                else:\n",
    "                    fragment_origin = tuple(  np.asarray([x,y,z]) )\n",
    "                \n",
    "                combined_fragments_dictionary = update_dict(combined_fragments_dictionary, fragment_origin, vz, fz)\n",
    "\n",
    "                vy, fy = my_slice_faces_plane(\n",
    "                   vy, fy, plane_normal=nxy, plane_origin=nxy*(z+1)*sub_box_size)\n",
    "\n",
    "            vx, fx = my_slice_faces_plane(\n",
    "                vx, fx, plane_normal=nxz, plane_origin=nxz*(y+1)*sub_box_size)\n",
    "        \n",
    "        v, f = my_slice_faces_plane(\n",
    "            v, f, plane_normal=nyz, plane_origin=nyz*(x+1)*sub_box_size)\n",
    "\n",
    "    # if current_lod==starting_lod:\n",
    "    #     return fragments\n",
    "    \n",
    "    #return combined_fragments_dictionary    \n",
    "    for fragment_origin,[v,f] in combined_fragments_dictionary.items():\n",
    "        current_box_size = lod_0_box_size*2**(current_lod-starting_lod)\n",
    "        draco_bytes = encode_faces_to_custom_drc_bytes(\n",
    "            v , np.zeros(np.shape(v)), f, np.asarray(3*[current_box_size]), np.asarray(fragment_origin)*current_box_size, position_quantization_bits = 10)\n",
    "       \n",
    "        if len(draco_bytes)>12:\n",
    "            fragment = Fragment(draco_bytes, np.asarray( fragment_origin ), len(draco_bytes))   \n",
    "            fragments.append(fragment)\n",
    "            \n",
    "    return fragments\n",
    "\n",
    "def pyfqmr_decimate(v, f, fraction):\n",
    "    mesh_simplifier = pyfqmr.Simplify()\n",
    "    mesh_simplifier.setMesh(v, f)\n",
    "    mesh_simplifier.simplify_mesh(\n",
    "            target_count=len(f)//2, aggressiveness=7, preserve_border=False, verbose=0)\n",
    "    v, f, _ = mesh_simplifier.getMesh()\n",
    "    return v,f\n",
    "\n",
    "def decimate(v, f, fraction):\n",
    "    target = max(4, int(fraction * len(v)))\n",
    "\n",
    "    try:\n",
    "        sys.stderr.fileno()\n",
    "    except:\n",
    "        # Can't redirect stderr if it has no file descriptor.\n",
    "        # Just let the output spill to wherever it's going.\n",
    "        m = om.TriMesh(v, f)\n",
    "    else:\n",
    "        # Hide stderr, since OpenMesh construction is super noisy.\n",
    "        with stdout_redirected(stdout=sys.stderr):\n",
    "            m = om.TriMesh(v, f)\n",
    "        \n",
    "        h = om.TriMeshModQuadricHandle()\n",
    "        d = om.TriMeshDecimater(m)\n",
    "        d.add(h)\n",
    "        d.module(h).unset_max_err()\n",
    "        d.initialize()\n",
    "\n",
    "        print(\n",
    "            f\"Attempting to decimate to {target} (Reduce by {len(v) - target})\")\n",
    "        eliminated_count = d.decimate_to(target)\n",
    "        print(f\"Reduced by {eliminated_count}\")\n",
    "        m.garbage_collection()\n",
    "\n",
    "    v = m.points().astype(np.float32)\n",
    "    f = m.face_vertex_indices().astype(np.uint32)\n",
    "\n",
    "    return v,f\n",
    "\n",
    "def generate_neuroglancer_meshes(input_path, output_path, id):\n",
    "    os.system(f\"rm -rf {output_path}/{id}*\")\n",
    "    mesh = trimesh.load(f\"{input_path}/{id}.obj\")\n",
    "\n",
    "    nyz, nxz, nxy = np.eye(3)\n",
    "    num_workers = 16\n",
    "    num_lods = 6\n",
    "\n",
    "    lods = list(range(num_lods))\n",
    "\n",
    "\n",
    "    v_whole = mesh.vertices.astype(np.float32)\n",
    "    f_whole = mesh.faces.astype(np.uint32)\n",
    "\n",
    "    mesh = []\n",
    "\n",
    "    lod_0_box_size = 64*4\n",
    "    for current_lod in lods:\n",
    "        t=time.time()\n",
    "        current_box_size = lod_0_box_size * 2**(current_lod-lods[0])\n",
    "        start_fragment =  np.maximum( np.min(v_whole, axis=0).astype(int) // current_box_size - 1 , np.array([0,0,0]) )\n",
    "        end_fragment = np.max(v_whole, axis=0).astype(int) // current_box_size + 1 \n",
    "        x_stride = int(np.ceil(1.0*(end_fragment[0]-start_fragment[0])/num_workers))\n",
    "\n",
    "        results = []\n",
    "\n",
    "        v = v_whole\n",
    "        f = f_whole\n",
    "\n",
    "        if len(lods)>1: #decimate here so don't have to keep original v_whole, f_whole around\n",
    "            v_whole,f_whole = pyfqmr_decimate(v_whole, f_whole, 4)\n",
    "\n",
    "        for x in range(start_fragment[0], end_fragment[0]+1,x_stride):\n",
    "            vx, fx = my_slice_faces_plane(v, f, plane_normal=-nyz, plane_origin=nyz*(x+x_stride)*current_box_size)\n",
    "            if len(vx)>0:\n",
    "                results.append( generate_mesh_decomposition(vx, fx, lod_0_box_size, start_fragment, end_fragment, x, x+x_stride, current_lod, lods[0]) )\n",
    "                v, f = my_slice_faces_plane(v, f, plane_normal=nyz, plane_origin=nyz*(x+x_stride)*current_box_size)\n",
    "\n",
    "        dask_results = dask.compute(* results)\n",
    "        fragments = [fragment for fragments in dask_results for fragment in fragments]\n",
    "        print(type(fragments))\n",
    "        print(id, current_lod, time.time()-t)\n",
    "    \n",
    "        utils.write_files(\"test/simpler_multires\", f\"{id}\", fragments, current_lod, lods, np.asarray([lod_0_box_size,lod_0_box_size,lod_0_box_size]))"
   ]
  },
  {
   "cell_type": "code",
   "execution_count": 2,
   "metadata": {},
   "outputs": [],
   "source": [
    "from dask.distributed import Client, progress\n",
    "client = Client(threads_per_worker=4,\n",
    "                n_workers=20)\n"
   ]
  },
  {
   "cell_type": "code",
   "execution_count": 3,
   "metadata": {},
   "outputs": [],
   "source": [
    "generate_neuroglancer_meshes(\"/groups/cosem/cosem/ackermand/meshesForWebsite/res1decimation0p1/jrc_hela-1/er_seg/\", \"test/simpler_multires/\", 2)"
   ]
  },
  {
   "cell_type": "code",
   "execution_count": 2,
   "metadata": {},
   "outputs": [
    {
     "name": "stdout",
     "output_type": "stream",
     "text": [
      "[65161.8   6824.35 43961.7 ] [1.76369e+04 2.76877e+02 6.73333e+00]\n"
     ]
    }
   ],
   "source": [
    "mesh = trimesh.load(\"/groups/cosem/cosem/ackermand/meshesForWebsite/res1decimation0p1/jrc_hela-1/er_seg/2.obj\")\n",
    "print(np.max(mesh.vertices,axis=0),np.min(mesh.vertices,axis=0))"
   ]
  },
  {
   "cell_type": "code",
   "execution_count": 3,
   "metadata": {},
   "outputs": [
    {
     "name": "stdout",
     "output_type": "stream",
     "text": [
      "simplified mesh in 0.0305 seconds from 18070 to 9034 triangles\n",
      "<class 'list'>\n",
      "simplified mesh in 0.0185 seconds from 9034 to 4516 triangles\n",
      "<class 'list'>\n",
      "simplified mesh in 0.0102 seconds from 4516 to 2258 triangles\n",
      "<class 'list'>\n",
      "simplified mesh in 0.0058 seconds from 2258 to 1128 triangles\n",
      "<class 'list'>\n",
      "simplified mesh in 0.003 seconds from 1128 to 564 triangles\n",
      "<class 'list'>\n",
      "simplified mesh in 0.0014 seconds from 564 to 282 triangles\n",
      "<class 'list'>\n"
     ]
    }
   ],
   "source": [
    "id = 1\n",
    "input_path = \"/groups/cosem/cosem/ackermand/meshesForWebsite/res1decimation0p1/jrc_hela-1/er_seg/\"\n",
    "mesh = trimesh.load(f\"{input_path}/{id}.obj\")\n",
    "\n",
    "nyz, nxz, nxy = np.eye(3)\n",
    "num_workers = 16\n",
    "num_lods = 6\n",
    "\n",
    "lods = list(range(num_lods))\n",
    "\n",
    "\n",
    "v_whole = mesh.vertices.astype(np.float32)\n",
    "f_whole = mesh.faces.astype(np.uint32)\n",
    "\n",
    "mesh = []\n",
    "\n",
    "lod_0_box_size = 64*4\n",
    "for current_lod in lods:\n",
    "    t=time.time()\n",
    "    current_box_size = lod_0_box_size * 2**(current_lod-lods[0])\n",
    "    start_fragment =  np.maximum( np.min(v_whole, axis=0).astype(int) // current_box_size - 1 , np.array([0,0,0]) )\n",
    "    end_fragment = np.max(v_whole, axis=0).astype(int) // current_box_size + 1 \n",
    "    x_stride = int(np.ceil(1.0*(end_fragment[0]-start_fragment[0])/num_workers))\n",
    "\n",
    "    results = []\n",
    "\n",
    "    v = v_whole\n",
    "    f = f_whole\n",
    "\n",
    "    if len(lods)>1: #decimate here so don't have to keep original v_whole, f_whole around\n",
    "        v_whole,f_whole = pyfqmr_decimate(v_whole, f_whole, 4)\n",
    "\n",
    "    for x in range(start_fragment[0], end_fragment[0]+1,x_stride):\n",
    "        vx, fx = my_slice_faces_plane(v, f, plane_normal=-nyz, plane_origin=nyz*(x+x_stride)*current_box_size)\n",
    "        if len(vx)>0:\n",
    "            results.append( generate_mesh_decomposition(vx, fx, lod_0_box_size, start_fragment, end_fragment, x, x+x_stride, current_lod, lods[0]) )\n",
    "            v, f = my_slice_faces_plane(v, f, plane_normal=nyz, plane_origin=nyz*(x+x_stride)*current_box_size)\n",
    "\n",
    "    dask_results = dask.compute(* results)\n",
    "    fragments = [fragment for fragments in dask_results for fragment in fragments]\n",
    "    print(type(fragments))"
   ]
  },
  {
   "cell_type": "code",
   "execution_count": 8,
   "metadata": {},
   "outputs": [
    {
     "data": {
      "text/plain": "198"
     },
     "execution_count": 8,
     "metadata": {},
     "output_type": "execute_result"
    }
   ],
   "source": [
    "len(fragments)"
   ]
  },
  {
   "cell_type": "code",
   "execution_count": 29,
   "metadata": {},
   "outputs": [
    {
     "name": "stdout",
     "output_type": "stream",
     "text": [
      "1.95 s ± 12.8 ms per loop (mean ± std. dev. of 7 runs, 1 loop each)\n"
     ]
    }
   ],
   "source": [
    "nyz, nxz, nxy = np.eye(3)\n",
    "v = mesh.vertices\n",
    "f = mesh.faces\n",
    "x=41399.35\n",
    "%timeit v_out, f_out = my_slice_faces_plane(v, f, plane_normal=nyz, plane_origin=nyz*x)"
   ]
  },
  {
   "cell_type": "code",
   "execution_count": 30,
   "metadata": {},
   "outputs": [
    {
     "name": "stdout",
     "output_type": "stream",
     "text": [
      "6113224\n",
      "2826141\n",
      "753 ms ± 3.34 ms per loop (mean ± std. dev. of 7 runs, 1 loop each)\n"
     ]
    }
   ],
   "source": [
    "x=41399.35\n",
    "print(len(v))\n",
    "v_out, f_out = my_slice_faces_plane(v, f, plane_normal=nyz, plane_origin=nyz*x)\n",
    "print(len(v_out))\n",
    "\n",
    "x=50000\n",
    "%timeit v_out_again, f_out_again = my_slice_faces_plane(v_out, f_out, plane_normal=nyz, plane_origin=nyz*x)"
   ]
  },
  {
   "cell_type": "code",
   "execution_count": 31,
   "metadata": {},
   "outputs": [
    {
     "name": "stdout",
     "output_type": "stream",
     "text": [
      "582.4511323707748\n"
     ]
    }
   ],
   "source": [
    "\n",
    "max_edge_length = mesh.edges_unique_length.max()\n",
    "print(max_edge_length)\n"
   ]
  },
  {
   "cell_type": "code",
   "execution_count": 54,
   "metadata": {},
   "outputs": [
    {
     "data": {
      "text/plain": "(array([], dtype=int64),)"
     },
     "execution_count": 54,
     "metadata": {},
     "output_type": "execute_result"
    }
   ],
   "source": [
    "lod_0_box_size = 64*4\n",
    "vs = set(np.where((v[:, 0] > 50000) & (v[:, 0] <51000))[0])\n",
    "# get all faces with any of those vertices\n",
    "np.where((f[:,0] in vs) & (f[:,1] in vs) & (f[:,2] in vs))"
   ]
  },
  {
   "cell_type": "code",
   "execution_count": 72,
   "metadata": {},
   "outputs": [],
   "source": [
    "@jit\n",
    "def test():\n",
    "    a=[f1 in vs for f1 in f[:,0]]\n",
    "    return a"
   ]
  },
  {
   "cell_type": "code",
   "execution_count": 76,
   "metadata": {},
   "outputs": [
    {
     "name": "stdout",
     "output_type": "stream",
     "text": [
      "3.64 s ± 96.7 ms per loop (mean ± std. dev. of 7 runs, 1 loop each)\n"
     ]
    }
   ],
   "source": [
    "%timeit b=test()"
   ]
  },
  {
   "cell_type": "code",
   "execution_count": 80,
   "metadata": {},
   "outputs": [
    {
     "data": {
      "text/plain": "set"
     },
     "execution_count": 80,
     "metadata": {},
     "output_type": "execute_result"
    }
   ],
   "source": [
    "type(vs)"
   ]
  },
  {
   "cell_type": "code",
   "execution_count": 84,
   "metadata": {},
   "outputs": [],
   "source": [
    "t = mesh.triangles"
   ]
  },
  {
   "cell_type": "code",
   "execution_count": 5,
   "metadata": {},
   "outputs": [
    {
     "ename": "NameError",
     "evalue": "name 't' is not defined",
     "output_type": "error",
     "traceback": [
      "\u001b[0;31m---------------------------------------------------------------------------\u001b[0m",
      "\u001b[0;31mNameError\u001b[0m                                 Traceback (most recent call last)",
      "\u001b[0;32m/tmp/ipykernel_1670/1324980732.py\u001b[0m in \u001b[0;36m<module>\u001b[0;34m\u001b[0m\n\u001b[0;32m----> 1\u001b[0;31m \u001b[0mtemp\u001b[0m \u001b[0;34m=\u001b[0m \u001b[0mt\u001b[0m\u001b[0;34m[\u001b[0m\u001b[0;36m0\u001b[0m\u001b[0;34m:\u001b[0m\u001b[0;36m2\u001b[0m\u001b[0;34m,\u001b[0m\u001b[0;34m:\u001b[0m\u001b[0;34m]\u001b[0m\u001b[0;34m\u001b[0m\u001b[0;34m\u001b[0m\u001b[0m\n\u001b[0m\u001b[1;32m      2\u001b[0m \u001b[0mt2\u001b[0m \u001b[0;34m=\u001b[0m \u001b[0mt\u001b[0m\u001b[0;34m.\u001b[0m\u001b[0mreshape\u001b[0m\u001b[0;34m(\u001b[0m\u001b[0;34m(\u001b[0m\u001b[0;34m-\u001b[0m\u001b[0;36m1\u001b[0m\u001b[0;34m,\u001b[0m\u001b[0;36m9\u001b[0m\u001b[0;34m)\u001b[0m\u001b[0;34m)\u001b[0m\u001b[0;34m\u001b[0m\u001b[0;34m\u001b[0m\u001b[0m\n\u001b[1;32m      3\u001b[0m \u001b[0mxmin\u001b[0m \u001b[0;34m=\u001b[0m \u001b[0;36m47000\u001b[0m\u001b[0;34m\u001b[0m\u001b[0;34m\u001b[0m\u001b[0m\n\u001b[1;32m      4\u001b[0m \u001b[0mxmax\u001b[0m \u001b[0;34m=\u001b[0m \u001b[0;36m48000\u001b[0m\u001b[0;34m\u001b[0m\u001b[0;34m\u001b[0m\u001b[0m\n\u001b[1;32m      5\u001b[0m \u001b[0mymin\u001b[0m \u001b[0;34m=\u001b[0m \u001b[0;36m4600\u001b[0m\u001b[0;34m\u001b[0m\u001b[0;34m\u001b[0m\u001b[0m\n",
      "\u001b[0;31mNameError\u001b[0m: name 't' is not defined"
     ]
    }
   ],
   "source": [
    "temp = t[0:2,:]\n",
    "t2 = t.reshape((-1,9))\n",
    "xmin = 47000\n",
    "xmax = 48000\n",
    "ymin = 4600\n",
    "ymax = 4800\n",
    "zmin = 300\n",
    "zmax = 400\n",
    "\n",
    "np.where((t2[:,0]>xmin) & (t2[:,3]>xmin) & (t2[:,6]>xmin) &\n",
    "        (t2[:,0]<xmax) & (t2[:,3]<xmax) & (t2[:,6]<xmax) &\n",
    "        (t2[:,1]>ymin) & (t2[:,4]>ymin) & (t2[:,7]>ymin) &\n",
    "        (t2[:,1]<ymax) & (t2[:,4]<ymax) & (t2[:,7]<ymax) &\n",
    "        (t2[:,2]>zmin) & (t2[:,5]>zmin) & (t2[:,8]>zmin) &\n",
    "        (t2[:,2]<zmax) & (t2[:,5]<zmax) & (t2[:,8]<zmax))"
   ]
  },
  {
   "cell_type": "code",
   "execution_count": 25,
   "metadata": {},
   "outputs": [],
   "source": [
    "@jit\n",
    "def fast_find(t2, xmin, xmax, ymin, ymax, zmin, zmax):\n",
    "    a=np.where((t2[:,0]>xmin) & (t2[:,3]>xmin) & (t2[:,6]>xmin) &\n",
    "    (t2[:,0]<xmax) & (t2[:,3]<xmax) & (t2[:,6]<xmax) &\n",
    "    (t2[:,1]>ymin) & (t2[:,4]>ymin) & (t2[:,7]>ymin) &\n",
    "    (t2[:,1]<ymax) & (t2[:,4]<ymax) & (t2[:,7]<ymax) &\n",
    "    (t2[:,2]>zmin) & (t2[:,5]>zmin) & (t2[:,8]>zmin) &\n",
    "    (t2[:,2]<zmax) & (t2[:,5]<zmax) & (t2[:,8]<zmax))\n",
    "    return a[0]\n",
    "\n",
    "def fast_find2(t2, xmin, xmax):\n",
    "    a=np.where((t2[:,0]>xmin) & (t2[:,3]>xmin) & (t2[:,6]>xmin) &\n",
    "    (t2[:,0]<xmax) & (t2[:,3]<xmax) & (t2[:,6]<xmax))\n",
    "    return a[0]\n",
    "\n",
    "@jit\n",
    "def get_faces_within_slice(v, f, fv, xmin, xmax, delta):\n",
    "    xmin-=delta\n",
    "    xmax+=delta\n",
    "\n",
    "    faces_in_range=np.where((fv[:,0]>xmin) & (fv[:,0]<xmax) & \n",
    "    (fv[:,3]>xmin) & (fv[:,3]<xmax) &\n",
    "    (fv[:,6]>xmin) & (fv[:,6]<xmax))[0]\n",
    "    f = f[faces_in_range].reshape(-1)\n",
    "    # v_unq, f_renumbered = np.unique(f.reshape(-1),return_inverse=True)\n",
    "    v_unq = np.unique(f) #Numba doesn't support return_inverse argument\n",
    "    v_renumbering_dict = {}\n",
    "    for idx,v_unq_idx in enumerate(v_unq):\n",
    "        v_renumbering_dict[v_unq_idx] = idx\n",
    "    \n",
    "    f = np.array([v_renumbering_dict[f_idx] for f_idx in f])\n",
    "\n",
    "    v=v[v_unq]\n",
    "\n",
    "    f = f.reshape(-1,3)\n",
    "    print(len(f))\n",
    "    return v, f\n",
    "\n",
    "def my_fast_slice_faces_plane(v,f,xmin, xmax, delta, plane_normal, plane_origin):\n",
    "    v, f = get_faces_within_slice(v, f,  xmin, xmax, delta)\n",
    "    v, f = my_slice_faces_plane(v, f, plane_normal=plane_normal, plane_origin=plane_origin)\n",
    "    return v,f"
   ]
  },
  {
   "cell_type": "code",
   "execution_count": 26,
   "metadata": {},
   "outputs": [
    {
     "name": "stdout",
     "output_type": "stream",
     "text": [
      "959 ms ± 14.9 ms per loop (mean ± std. dev. of 7 runs, 1 loop each)\n"
     ]
    }
   ],
   "source": [
    "%timeit \n"
   ]
  },
  {
   "cell_type": "code",
   "execution_count": 22,
   "metadata": {},
   "outputs": [
    {
     "ename": "KeyboardInterrupt",
     "evalue": "",
     "output_type": "error",
     "traceback": [
      "\u001b[0;31m---------------------------------------------------------------------------\u001b[0m",
      "\u001b[0;31mKeyboardInterrupt\u001b[0m                         Traceback (most recent call last)",
      "\u001b[0;32m/tmp/ipykernel_25299/2885460856.py\u001b[0m in \u001b[0;36m<module>\u001b[0;34m\u001b[0m\n\u001b[1;32m      1\u001b[0m \u001b[0mfv\u001b[0m \u001b[0;34m=\u001b[0m \u001b[0mnp\u001b[0m\u001b[0;34m.\u001b[0m\u001b[0mzeros\u001b[0m\u001b[0;34m(\u001b[0m\u001b[0;34m(\u001b[0m\u001b[0mlen\u001b[0m\u001b[0;34m(\u001b[0m\u001b[0mmesh\u001b[0m\u001b[0;34m.\u001b[0m\u001b[0mfaces\u001b[0m\u001b[0;34m)\u001b[0m\u001b[0;34m,\u001b[0m\u001b[0;36m9\u001b[0m\u001b[0;34m)\u001b[0m\u001b[0;34m,\u001b[0m\u001b[0mdtype\u001b[0m\u001b[0;34m=\u001b[0m\u001b[0mnp\u001b[0m\u001b[0;34m.\u001b[0m\u001b[0mfloat32\u001b[0m\u001b[0;34m)\u001b[0m\u001b[0;34m\u001b[0m\u001b[0;34m\u001b[0m\u001b[0m\n\u001b[0;32m----> 2\u001b[0;31m \u001b[0;32mfor\u001b[0m \u001b[0mface_idx\u001b[0m\u001b[0;34m,\u001b[0m\u001b[0mface\u001b[0m \u001b[0;32min\u001b[0m \u001b[0menumerate\u001b[0m\u001b[0;34m(\u001b[0m\u001b[0mmesh\u001b[0m\u001b[0;34m.\u001b[0m\u001b[0mfaces\u001b[0m\u001b[0;34m)\u001b[0m\u001b[0;34m:\u001b[0m\u001b[0;34m\u001b[0m\u001b[0;34m\u001b[0m\u001b[0m\n\u001b[0m\u001b[1;32m      3\u001b[0m     \u001b[0;32mfor\u001b[0m \u001b[0mvertex_idx\u001b[0m \u001b[0;32min\u001b[0m \u001b[0mface\u001b[0m\u001b[0;34m:\u001b[0m\u001b[0;34m\u001b[0m\u001b[0;34m\u001b[0m\u001b[0m\n\u001b[1;32m      4\u001b[0m         \u001b[0mfv\u001b[0m\u001b[0;34m[\u001b[0m\u001b[0mface_idx\u001b[0m\u001b[0;34m,\u001b[0m \u001b[0;36m0\u001b[0m\u001b[0;34m:\u001b[0m\u001b[0;36m3\u001b[0m\u001b[0;34m]\u001b[0m \u001b[0;34m=\u001b[0m \u001b[0mmesh\u001b[0m\u001b[0;34m.\u001b[0m\u001b[0mvertices\u001b[0m\u001b[0;34m[\u001b[0m\u001b[0mvertex_idx\u001b[0m\u001b[0;34m]\u001b[0m\u001b[0;34m\u001b[0m\u001b[0;34m\u001b[0m\u001b[0m\n",
      "\u001b[0;32m~/miniconda3/envs/simpler_multires/lib/python3.7/site-packages/trimesh/caching.py\u001b[0m in \u001b[0;36m__array_finalize__\u001b[0;34m(self, obj)\u001b[0m\n\u001b[1;32m    143\u001b[0m     \"\"\"\n\u001b[1;32m    144\u001b[0m \u001b[0;34m\u001b[0m\u001b[0m\n\u001b[0;32m--> 145\u001b[0;31m     \u001b[0;32mdef\u001b[0m \u001b[0m__array_finalize__\u001b[0m\u001b[0;34m(\u001b[0m\u001b[0mself\u001b[0m\u001b[0;34m,\u001b[0m \u001b[0mobj\u001b[0m\u001b[0;34m)\u001b[0m\u001b[0;34m:\u001b[0m\u001b[0;34m\u001b[0m\u001b[0;34m\u001b[0m\u001b[0m\n\u001b[0m\u001b[1;32m    146\u001b[0m         \"\"\"\n\u001b[1;32m    147\u001b[0m         \u001b[0mSets\u001b[0m \u001b[0ma\u001b[0m \u001b[0mmodified\u001b[0m \u001b[0mflag\u001b[0m \u001b[0mon\u001b[0m \u001b[0mevery\u001b[0m \u001b[0mTrackedArray\u001b[0m\u001b[0;34m\u001b[0m\u001b[0;34m\u001b[0m\u001b[0m\n",
      "\u001b[0;31mKeyboardInterrupt\u001b[0m: "
     ]
    }
   ],
   "source": [
    "\n",
    "for face_idx,face in enumerate(mesh.faces):\n",
    "    for vertex_idx in face:\n",
    "        fv[face_idx, 0:3] = mesh.vertices[vertex_idx]\n"
   ]
  },
  {
   "cell_type": "code",
   "execution_count": 11,
   "metadata": {},
   "outputs": [
    {
     "name": "stderr",
     "output_type": "stream",
     "text": [
      "/tmp/ipykernel_25299/3666477434.py:16: NumbaWarning: \u001b[1m\n",
      "Compilation is falling back to object mode WITH looplifting enabled because Function \"get_faces_within_slice\" failed type inference due to: \u001b[1m\u001b[1mUse of unsupported NumPy function 'numpy.ndarray' or unsupported use of the function.\n",
      "\u001b[1m\n",
      "File \"../../../../../../tmp/ipykernel_25299/3666477434.py\", line 20:\u001b[0m\n",
      "\u001b[1m<source missing, REPL/exec in use?>\u001b[0m\n",
      "\u001b[0m\n",
      "\u001b[0m\u001b[1mDuring: typing of get attribute at /tmp/ipykernel_25299/3666477434.py (20)\u001b[0m\n",
      "\u001b[1m\n",
      "File \"../../../../../../tmp/ipykernel_25299/3666477434.py\", line 20:\u001b[0m\n",
      "\u001b[1m<source missing, REPL/exec in use?>\u001b[0m\n",
      "\u001b[0m\n",
      "  @jit\n",
      "/tmp/ipykernel_25299/3666477434.py:16: NumbaWarning: \u001b[1m\n",
      "Compilation is falling back to object mode WITHOUT looplifting enabled because Function \"get_faces_within_slice\" failed type inference due to: \u001b[1m\u001b[1mCannot determine Numba type of <class 'numba.core.dispatcher.LiftedLoop'>\u001b[0m\n",
      "\u001b[1m\n",
      "File \"../../../../../../tmp/ipykernel_25299/3666477434.py\", line 29:\u001b[0m\n",
      "\u001b[1m<source missing, REPL/exec in use?>\u001b[0m\n",
      "\u001b[0m\u001b[0m\n",
      "  @jit\n"
     ]
    },
    {
     "ename": "TypingError",
     "evalue": "Failed in object mode pipeline (step: object mode frontend)\nFailed in object mode pipeline (step: ensure IR is legal prior to lowering)\n\u001b[1m'view' can only be called on NumPy dtypes, try wrapping the variable 'v' with 'np.<dtype>()'\n\u001b[1m\nFile \"../../../../../../tmp/ipykernel_25299/3666477434.py\", line 20:\u001b[0m\n\u001b[1m<source missing, REPL/exec in use?>\u001b[0m\n\u001b[0m",
     "output_type": "error",
     "traceback": [
      "\u001b[0;31m---------------------------------------------------------------------------\u001b[0m",
      "\u001b[0;31mTypingError\u001b[0m                               Traceback (most recent call last)",
      "\u001b[0;32m/tmp/ipykernel_25299/1068368005.py\u001b[0m in \u001b[0;36m<module>\u001b[0;34m\u001b[0m\n\u001b[0;32m----> 1\u001b[0;31m \u001b[0mget_ipython\u001b[0m\u001b[0;34m(\u001b[0m\u001b[0;34m)\u001b[0m\u001b[0;34m.\u001b[0m\u001b[0mrun_line_magic\u001b[0m\u001b[0;34m(\u001b[0m\u001b[0;34m'timeit'\u001b[0m\u001b[0;34m,\u001b[0m \u001b[0;34m'get_faces_within_slice(mesh.vertices, mesh.faces, 17000, 18000, 50)'\u001b[0m\u001b[0;34m)\u001b[0m\u001b[0;34m\u001b[0m\u001b[0;34m\u001b[0m\u001b[0m\n\u001b[0m\u001b[1;32m      2\u001b[0m \u001b[0mget_ipython\u001b[0m\u001b[0;34m(\u001b[0m\u001b[0;34m)\u001b[0m\u001b[0;34m.\u001b[0m\u001b[0mrun_line_magic\u001b[0m\u001b[0;34m(\u001b[0m\u001b[0;34m'timeit'\u001b[0m\u001b[0;34m,\u001b[0m \u001b[0;34m'v_t, f_t = my_slice_faces_plane(mesh.vertices, mesh.faces, plane_normal=nyz, plane_origin=nyz*17000)'\u001b[0m\u001b[0;34m)\u001b[0m\u001b[0;34m\u001b[0m\u001b[0;34m\u001b[0m\u001b[0m\n",
      "\u001b[0;32m~/miniconda3/envs/simpler_multires/lib/python3.7/site-packages/IPython/core/interactiveshell.py\u001b[0m in \u001b[0;36mrun_line_magic\u001b[0;34m(self, magic_name, line, _stack_depth)\u001b[0m\n\u001b[1;32m   2349\u001b[0m                 \u001b[0mkwargs\u001b[0m\u001b[0;34m[\u001b[0m\u001b[0;34m'local_ns'\u001b[0m\u001b[0;34m]\u001b[0m \u001b[0;34m=\u001b[0m \u001b[0mself\u001b[0m\u001b[0;34m.\u001b[0m\u001b[0mget_local_scope\u001b[0m\u001b[0;34m(\u001b[0m\u001b[0mstack_depth\u001b[0m\u001b[0;34m)\u001b[0m\u001b[0;34m\u001b[0m\u001b[0;34m\u001b[0m\u001b[0m\n\u001b[1;32m   2350\u001b[0m             \u001b[0;32mwith\u001b[0m \u001b[0mself\u001b[0m\u001b[0;34m.\u001b[0m\u001b[0mbuiltin_trap\u001b[0m\u001b[0;34m:\u001b[0m\u001b[0;34m\u001b[0m\u001b[0;34m\u001b[0m\u001b[0m\n\u001b[0;32m-> 2351\u001b[0;31m                 \u001b[0mresult\u001b[0m \u001b[0;34m=\u001b[0m \u001b[0mfn\u001b[0m\u001b[0;34m(\u001b[0m\u001b[0;34m*\u001b[0m\u001b[0margs\u001b[0m\u001b[0;34m,\u001b[0m \u001b[0;34m**\u001b[0m\u001b[0mkwargs\u001b[0m\u001b[0;34m)\u001b[0m\u001b[0;34m\u001b[0m\u001b[0;34m\u001b[0m\u001b[0m\n\u001b[0m\u001b[1;32m   2352\u001b[0m             \u001b[0;32mreturn\u001b[0m \u001b[0mresult\u001b[0m\u001b[0;34m\u001b[0m\u001b[0;34m\u001b[0m\u001b[0m\n\u001b[1;32m   2353\u001b[0m \u001b[0;34m\u001b[0m\u001b[0m\n",
      "\u001b[0;32m~/miniconda3/envs/simpler_multires/lib/python3.7/site-packages/decorator.py\u001b[0m in \u001b[0;36mfun\u001b[0;34m(*args, **kw)\u001b[0m\n\u001b[1;32m    230\u001b[0m             \u001b[0;32mif\u001b[0m \u001b[0;32mnot\u001b[0m \u001b[0mkwsyntax\u001b[0m\u001b[0;34m:\u001b[0m\u001b[0;34m\u001b[0m\u001b[0;34m\u001b[0m\u001b[0m\n\u001b[1;32m    231\u001b[0m                 \u001b[0margs\u001b[0m\u001b[0;34m,\u001b[0m \u001b[0mkw\u001b[0m \u001b[0;34m=\u001b[0m \u001b[0mfix\u001b[0m\u001b[0;34m(\u001b[0m\u001b[0margs\u001b[0m\u001b[0;34m,\u001b[0m \u001b[0mkw\u001b[0m\u001b[0;34m,\u001b[0m \u001b[0msig\u001b[0m\u001b[0;34m)\u001b[0m\u001b[0;34m\u001b[0m\u001b[0;34m\u001b[0m\u001b[0m\n\u001b[0;32m--> 232\u001b[0;31m             \u001b[0;32mreturn\u001b[0m \u001b[0mcaller\u001b[0m\u001b[0;34m(\u001b[0m\u001b[0mfunc\u001b[0m\u001b[0;34m,\u001b[0m \u001b[0;34m*\u001b[0m\u001b[0;34m(\u001b[0m\u001b[0mextras\u001b[0m \u001b[0;34m+\u001b[0m \u001b[0margs\u001b[0m\u001b[0;34m)\u001b[0m\u001b[0;34m,\u001b[0m \u001b[0;34m**\u001b[0m\u001b[0mkw\u001b[0m\u001b[0;34m)\u001b[0m\u001b[0;34m\u001b[0m\u001b[0;34m\u001b[0m\u001b[0m\n\u001b[0m\u001b[1;32m    233\u001b[0m     \u001b[0mfun\u001b[0m\u001b[0;34m.\u001b[0m\u001b[0m__name__\u001b[0m \u001b[0;34m=\u001b[0m \u001b[0mfunc\u001b[0m\u001b[0;34m.\u001b[0m\u001b[0m__name__\u001b[0m\u001b[0;34m\u001b[0m\u001b[0;34m\u001b[0m\u001b[0m\n\u001b[1;32m    234\u001b[0m     \u001b[0mfun\u001b[0m\u001b[0;34m.\u001b[0m\u001b[0m__doc__\u001b[0m \u001b[0;34m=\u001b[0m \u001b[0mfunc\u001b[0m\u001b[0;34m.\u001b[0m\u001b[0m__doc__\u001b[0m\u001b[0;34m\u001b[0m\u001b[0;34m\u001b[0m\u001b[0m\n",
      "\u001b[0;32m~/miniconda3/envs/simpler_multires/lib/python3.7/site-packages/IPython/core/magic.py\u001b[0m in \u001b[0;36m<lambda>\u001b[0;34m(f, *a, **k)\u001b[0m\n\u001b[1;32m    185\u001b[0m     \u001b[0;31m# but it's overkill for just that one bit of state.\u001b[0m\u001b[0;34m\u001b[0m\u001b[0;34m\u001b[0m\u001b[0;34m\u001b[0m\u001b[0m\n\u001b[1;32m    186\u001b[0m     \u001b[0;32mdef\u001b[0m \u001b[0mmagic_deco\u001b[0m\u001b[0;34m(\u001b[0m\u001b[0marg\u001b[0m\u001b[0;34m)\u001b[0m\u001b[0;34m:\u001b[0m\u001b[0;34m\u001b[0m\u001b[0;34m\u001b[0m\u001b[0m\n\u001b[0;32m--> 187\u001b[0;31m         \u001b[0mcall\u001b[0m \u001b[0;34m=\u001b[0m \u001b[0;32mlambda\u001b[0m \u001b[0mf\u001b[0m\u001b[0;34m,\u001b[0m \u001b[0;34m*\u001b[0m\u001b[0ma\u001b[0m\u001b[0;34m,\u001b[0m \u001b[0;34m**\u001b[0m\u001b[0mk\u001b[0m\u001b[0;34m:\u001b[0m \u001b[0mf\u001b[0m\u001b[0;34m(\u001b[0m\u001b[0;34m*\u001b[0m\u001b[0ma\u001b[0m\u001b[0;34m,\u001b[0m \u001b[0;34m**\u001b[0m\u001b[0mk\u001b[0m\u001b[0;34m)\u001b[0m\u001b[0;34m\u001b[0m\u001b[0;34m\u001b[0m\u001b[0m\n\u001b[0m\u001b[1;32m    188\u001b[0m \u001b[0;34m\u001b[0m\u001b[0m\n\u001b[1;32m    189\u001b[0m         \u001b[0;32mif\u001b[0m \u001b[0mcallable\u001b[0m\u001b[0;34m(\u001b[0m\u001b[0marg\u001b[0m\u001b[0;34m)\u001b[0m\u001b[0;34m:\u001b[0m\u001b[0;34m\u001b[0m\u001b[0;34m\u001b[0m\u001b[0m\n",
      "\u001b[0;32m~/miniconda3/envs/simpler_multires/lib/python3.7/site-packages/IPython/core/magics/execution.py\u001b[0m in \u001b[0;36mtimeit\u001b[0;34m(self, line, cell, local_ns)\u001b[0m\n\u001b[1;32m   1167\u001b[0m             \u001b[0;32mfor\u001b[0m \u001b[0mindex\u001b[0m \u001b[0;32min\u001b[0m \u001b[0mrange\u001b[0m\u001b[0;34m(\u001b[0m\u001b[0;36m0\u001b[0m\u001b[0;34m,\u001b[0m \u001b[0;36m10\u001b[0m\u001b[0;34m)\u001b[0m\u001b[0;34m:\u001b[0m\u001b[0;34m\u001b[0m\u001b[0;34m\u001b[0m\u001b[0m\n\u001b[1;32m   1168\u001b[0m                 \u001b[0mnumber\u001b[0m \u001b[0;34m=\u001b[0m \u001b[0;36m10\u001b[0m \u001b[0;34m**\u001b[0m \u001b[0mindex\u001b[0m\u001b[0;34m\u001b[0m\u001b[0;34m\u001b[0m\u001b[0m\n\u001b[0;32m-> 1169\u001b[0;31m                 \u001b[0mtime_number\u001b[0m \u001b[0;34m=\u001b[0m \u001b[0mtimer\u001b[0m\u001b[0;34m.\u001b[0m\u001b[0mtimeit\u001b[0m\u001b[0;34m(\u001b[0m\u001b[0mnumber\u001b[0m\u001b[0;34m)\u001b[0m\u001b[0;34m\u001b[0m\u001b[0;34m\u001b[0m\u001b[0m\n\u001b[0m\u001b[1;32m   1170\u001b[0m                 \u001b[0;32mif\u001b[0m \u001b[0mtime_number\u001b[0m \u001b[0;34m>=\u001b[0m \u001b[0;36m0.2\u001b[0m\u001b[0;34m:\u001b[0m\u001b[0;34m\u001b[0m\u001b[0;34m\u001b[0m\u001b[0m\n\u001b[1;32m   1171\u001b[0m                     \u001b[0;32mbreak\u001b[0m\u001b[0;34m\u001b[0m\u001b[0;34m\u001b[0m\u001b[0m\n",
      "\u001b[0;32m~/miniconda3/envs/simpler_multires/lib/python3.7/site-packages/IPython/core/magics/execution.py\u001b[0m in \u001b[0;36mtimeit\u001b[0;34m(self, number)\u001b[0m\n\u001b[1;32m    167\u001b[0m         \u001b[0mgc\u001b[0m\u001b[0;34m.\u001b[0m\u001b[0mdisable\u001b[0m\u001b[0;34m(\u001b[0m\u001b[0;34m)\u001b[0m\u001b[0;34m\u001b[0m\u001b[0;34m\u001b[0m\u001b[0m\n\u001b[1;32m    168\u001b[0m         \u001b[0;32mtry\u001b[0m\u001b[0;34m:\u001b[0m\u001b[0;34m\u001b[0m\u001b[0;34m\u001b[0m\u001b[0m\n\u001b[0;32m--> 169\u001b[0;31m             \u001b[0mtiming\u001b[0m \u001b[0;34m=\u001b[0m \u001b[0mself\u001b[0m\u001b[0;34m.\u001b[0m\u001b[0minner\u001b[0m\u001b[0;34m(\u001b[0m\u001b[0mit\u001b[0m\u001b[0;34m,\u001b[0m \u001b[0mself\u001b[0m\u001b[0;34m.\u001b[0m\u001b[0mtimer\u001b[0m\u001b[0;34m)\u001b[0m\u001b[0;34m\u001b[0m\u001b[0;34m\u001b[0m\u001b[0m\n\u001b[0m\u001b[1;32m    170\u001b[0m         \u001b[0;32mfinally\u001b[0m\u001b[0;34m:\u001b[0m\u001b[0;34m\u001b[0m\u001b[0;34m\u001b[0m\u001b[0m\n\u001b[1;32m    171\u001b[0m             \u001b[0;32mif\u001b[0m \u001b[0mgcold\u001b[0m\u001b[0;34m:\u001b[0m\u001b[0;34m\u001b[0m\u001b[0;34m\u001b[0m\u001b[0m\n",
      "\u001b[0;32m<magic-timeit>\u001b[0m in \u001b[0;36minner\u001b[0;34m(_it, _timer)\u001b[0m\n",
      "\u001b[0;32m~/miniconda3/envs/simpler_multires/lib/python3.7/site-packages/numba/core/dispatcher.py\u001b[0m in \u001b[0;36m_compile_for_args\u001b[0;34m(self, *args, **kws)\u001b[0m\n\u001b[1;32m    418\u001b[0m                 \u001b[0me\u001b[0m\u001b[0;34m.\u001b[0m\u001b[0mpatch_message\u001b[0m\u001b[0;34m(\u001b[0m\u001b[0mmsg\u001b[0m\u001b[0;34m)\u001b[0m\u001b[0;34m\u001b[0m\u001b[0;34m\u001b[0m\u001b[0m\n\u001b[1;32m    419\u001b[0m \u001b[0;34m\u001b[0m\u001b[0m\n\u001b[0;32m--> 420\u001b[0;31m             \u001b[0merror_rewrite\u001b[0m\u001b[0;34m(\u001b[0m\u001b[0me\u001b[0m\u001b[0;34m,\u001b[0m \u001b[0;34m'typing'\u001b[0m\u001b[0;34m)\u001b[0m\u001b[0;34m\u001b[0m\u001b[0;34m\u001b[0m\u001b[0m\n\u001b[0m\u001b[1;32m    421\u001b[0m         \u001b[0;32mexcept\u001b[0m \u001b[0merrors\u001b[0m\u001b[0;34m.\u001b[0m\u001b[0mUnsupportedError\u001b[0m \u001b[0;32mas\u001b[0m \u001b[0me\u001b[0m\u001b[0;34m:\u001b[0m\u001b[0;34m\u001b[0m\u001b[0;34m\u001b[0m\u001b[0m\n\u001b[1;32m    422\u001b[0m             \u001b[0;31m# Something unsupported is present in the user code, add help info\u001b[0m\u001b[0;34m\u001b[0m\u001b[0;34m\u001b[0m\u001b[0;34m\u001b[0m\u001b[0m\n",
      "\u001b[0;32m~/miniconda3/envs/simpler_multires/lib/python3.7/site-packages/numba/core/dispatcher.py\u001b[0m in \u001b[0;36merror_rewrite\u001b[0;34m(e, issue_type)\u001b[0m\n\u001b[1;32m    359\u001b[0m                 \u001b[0;32mraise\u001b[0m \u001b[0me\u001b[0m\u001b[0;34m\u001b[0m\u001b[0;34m\u001b[0m\u001b[0m\n\u001b[1;32m    360\u001b[0m             \u001b[0;32melse\u001b[0m\u001b[0;34m:\u001b[0m\u001b[0;34m\u001b[0m\u001b[0;34m\u001b[0m\u001b[0m\n\u001b[0;32m--> 361\u001b[0;31m                 \u001b[0;32mraise\u001b[0m \u001b[0me\u001b[0m\u001b[0;34m.\u001b[0m\u001b[0mwith_traceback\u001b[0m\u001b[0;34m(\u001b[0m\u001b[0;32mNone\u001b[0m\u001b[0;34m)\u001b[0m\u001b[0;34m\u001b[0m\u001b[0;34m\u001b[0m\u001b[0m\n\u001b[0m\u001b[1;32m    362\u001b[0m \u001b[0;34m\u001b[0m\u001b[0m\n\u001b[1;32m    363\u001b[0m         \u001b[0margtypes\u001b[0m \u001b[0;34m=\u001b[0m \u001b[0;34m[\u001b[0m\u001b[0;34m]\u001b[0m\u001b[0;34m\u001b[0m\u001b[0;34m\u001b[0m\u001b[0m\n",
      "\u001b[0;31mTypingError\u001b[0m: Failed in object mode pipeline (step: object mode frontend)\nFailed in object mode pipeline (step: ensure IR is legal prior to lowering)\n\u001b[1m'view' can only be called on NumPy dtypes, try wrapping the variable 'v' with 'np.<dtype>()'\n\u001b[1m\nFile \"../../../../../../tmp/ipykernel_25299/3666477434.py\", line 20:\u001b[0m\n\u001b[1m<source missing, REPL/exec in use?>\u001b[0m\n\u001b[0m"
     ]
    }
   ],
   "source": [
    "%timeit get_faces_within_slice(mesh.vertices, mesh.faces, 17000, 18000, 50)\n",
    "%timeit v_t, f_t = my_slice_faces_plane(mesh.vertices, mesh.faces, plane_normal=nyz, plane_origin=nyz*17000)"
   ]
  },
  {
   "cell_type": "code",
   "execution_count": 70,
   "metadata": {},
   "outputs": [
    {
     "data": {
      "text/plain": "array([1., 0., 0.])"
     },
     "execution_count": 70,
     "metadata": {},
     "output_type": "execute_result"
    }
   ],
   "source": [
    "nyz"
   ]
  },
  {
   "cell_type": "code",
   "execution_count": 63,
   "metadata": {},
   "outputs": [
    {
     "name": "stdout",
     "output_type": "stream",
     "text": [
      "339 ms ± 1.63 ms per loop (mean ± std. dev. of 7 runs, 1 loop each)\n",
      "70.5 ms ± 471 µs per loop (mean ± std. dev. of 7 runs, 1 loop each)\n"
     ]
    }
   ],
   "source": [
    "%timeit a=fast_find2(t, 17000,17000+64*4*4)\n",
    "%timeit a=fast_find2_jit(mesh.vertices, mesh.faces,t,17000,17000+64*4*4,50)"
   ]
  },
  {
   "cell_type": "code",
   "execution_count": 51,
   "metadata": {},
   "outputs": [
    {
     "name": "stdout",
     "output_type": "stream",
     "text": [
      "2.19 s ± 42 ms per loop (mean ± std. dev. of 7 runs, 1 loop each)\n"
     ]
    }
   ],
   "source": [
    "nyz, nxz, nxy = np.eye(3)\n",
    "%timeit v_t, f_t = my_slice_faces_plane(mesh.vertices, mesh.faces, plane_normal=nyz, plane_origin=nyz*17000)\n"
   ]
  },
  {
   "cell_type": "code",
   "execution_count": 28,
   "metadata": {},
   "outputs": [
    {
     "data": {
      "text/plain": "array([0, 1, 2, 4])"
     },
     "execution_count": 28,
     "metadata": {},
     "output_type": "execute_result"
    }
   ],
   "source": [
    "np.unique([1,2,1,0,4])"
   ]
  },
  {
   "cell_type": "code",
   "execution_count": null,
   "metadata": {},
   "outputs": [],
   "source": []
  }
 ],
 "metadata": {
  "kernelspec": {
   "display_name": "Python 3.7.11 64-bit ('simpler_multires': conda)",
   "metadata": {
    "interpreter": {
     "hash": "e93722678e8373e37eba4b5467bd88588cccde7a44fc2df6dbea0b1d942a9ff0"
    }
   },
   "name": "python3"
  },
  "language_info": {
   "codemirror_mode": {
    "name": "ipython",
    "version": 3
   },
   "file_extension": ".py",
   "mimetype": "text/x-python",
   "name": "python",
   "nbconvert_exporter": "python",
   "pygments_lexer": "ipython3",
   "version": "3.7.11"
  },
  "orig_nbformat": 2
 },
 "nbformat": 4,
 "nbformat_minor": 2
}